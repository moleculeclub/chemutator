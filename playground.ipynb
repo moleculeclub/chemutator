{
 "cells": [
  {
   "cell_type": "code",
   "execution_count": 9,
   "metadata": {},
   "outputs": [],
   "source": [
    "from rdkit import Chem\n",
    "from random import choice\n",
    "from typing import List\n",
    "\n",
    "from chemutator.evo_utils import (\n",
    "    get_list_link_idxs,\n",
    "    get_link_idx\n",
    ")\n",
    "\n",
    "from rdkit.Chem.Draw import IPythonConsole, DrawingOptions\n",
    "IPythonConsole.drawOptions.addAtomIndices = True\n",
    "IPythonConsole.drawOptions.annotationFontScale = 0.9"
   ]
  },
  {
   "cell_type": "markdown",
   "metadata": {},
   "source": [
    "### utils"
   ]
  },
  {
   "cell_type": "code",
   "execution_count": null,
   "metadata": {},
   "outputs": [],
   "source": [
    "def link_fragments(\n",
    "    smi_A: str,\n",
    "    smi_B: str,\n",
    "    link_idx_A: int,\n",
    "    link_idx_B: int,\n",
    ") -> str:\n",
    "    mol_A = Chem.AddHs(Chem.MolFromSmiles(smi_A))\n",
    "    mol_B = Chem.AddHs(Chem.MolFromSmiles(smi_B))\n",
    "    num_atoms_A"
   ]
  },
  {
   "cell_type": "code",
   "execution_count": null,
   "metadata": {},
   "outputs": [],
   "source": [
    "def link_fragments(smi_A, smi_B, smi_L, link_idx_A, link_idx_B, link_idx_L1, link_idx_L2):\n",
    "    mol_A = Chem.AddHs(Chem.MolFromSmiles(smi_A))\n",
    "    mol_B = Chem.AddHs(Chem.MolFromSmiles(smi_B))\n",
    "    num_atoms_A = mol_A.GetNumAtoms()\n",
    "    num_atoms_B = mol_B.GetNumAtoms()\n",
    "    mol_A_B = Chem.CombineMols(mol_A, mol_B)\n",
    "    if smi_L != None:\n",
    "        mol_L = Chem.AddHs(Chem.MolFromSmiles(smi_L))\n",
    "        mol_A_B = Chem.CombineMols(mol_A_B, mol_L)\n",
    "    mol_A_B = Chem.RWMol(mol_A_B)\n",
    "\n",
    "    if smi_L == None:\n",
    "        if (mol_A.GetAtomWithIdx(link_idx_A).GetSymbol() in ['N', 'O'] and \n",
    "           mol_B.GetAtomWithIdx(link_idx_B).GetSymbol() in ['N', 'O']):\n",
    "           return None\n",
    "\n",
    "    hyd_idx_A = -1\n",
    "    for atom in mol_A_B.GetAtomWithIdx(link_idx_A).GetNeighbors():\n",
    "        if atom.GetSymbol() == 'H':\n",
    "            hyd_idx_A = atom.GetIdx()\n",
    "    hyd_idx_B = -1\n",
    "    for atom in mol_A_B.GetAtomWithIdx(link_idx_B+num_atoms_A).GetNeighbors():\n",
    "        if atom.GetSymbol() == 'H':\n",
    "            hyd_idx_B = atom.GetIdx()\n",
    "    if smi_L != None:\n",
    "        hyd_idx_L1 = -1\n",
    "        for atom in mol_A_B.GetAtomWithIdx(link_idx_L1+num_atoms_A+num_atoms_B).GetNeighbors():\n",
    "            if atom.GetSymbol() == 'H':\n",
    "                hyd_idx_L1 = atom.GetIdx()\n",
    "        hyd_idx_L2 = -1\n",
    "        for atom in mol_A_B.GetAtomWithIdx(link_idx_L2+num_atoms_A+num_atoms_B).GetNeighbors():\n",
    "            if atom.GetSymbol() == 'H' and hyd_idx_L1 != atom.GetIdx():\n",
    "                hyd_idx_L2 = atom.GetIdx()\n",
    "        if hyd_idx_L1 > hyd_idx_L2:\n",
    "            temp = hyd_idx_L1\n",
    "            hyd_idx_L1 = hyd_idx_L2\n",
    "            hyd_idx_L2 = temp\n",
    "\n",
    "    if smi_L == None:\n",
    "        mol_A_B.AddBond(link_idx_A, link_idx_B+num_atoms_A, Chem.BondType.SINGLE)\n",
    "    else:\n",
    "        mol_A_B.AddBond(link_idx_A, link_idx_L1+num_atoms_A+num_atoms_B, Chem.BondType.SINGLE)\n",
    "        mol_A_B.AddBond(link_idx_B+num_atoms_A, link_idx_L2+num_atoms_A+num_atoms_B, Chem.BondType.SINGLE)\n",
    "        mol_A_B.RemoveAtom(hyd_idx_L2)\n",
    "        mol_A_B.RemoveAtom(hyd_idx_L1)\n",
    "        \n",
    "    mol_A_B.RemoveAtom(hyd_idx_B)\n",
    "    mol_A_B.RemoveAtom(hyd_idx_A)\n",
    "\n",
    "    mol_A_B = mol_A_B.GetMol()\n",
    "    mol_A_B = Chem.RemoveHs(mol_A_B)\n",
    "\n",
    "    return Chem.MolToSmiles(mol_A_B)"
   ]
  },
  {
   "cell_type": "markdown",
   "metadata": {},
   "source": [
    "### tests"
   ]
  },
  {
   "cell_type": "code",
   "execution_count": 5,
   "metadata": {},
   "outputs": [],
   "source": [
    "def test_get_list_link_idxs():\n",
    "    smi = 'CC(C(=O)O)c1ccc2oc(-c3ccc(Cl)cc3)nc2c1'\n",
    "    assert get_list_link_idxs(smi) == [4, 6, 7, 12, 13, 16, 17, 20]\n",
    "\n",
    "    smi = 'C=C(CC)C(=O)c1ccc(OCC(=O)O)c(Cl)c1Cl'\n",
    "    assert get_list_link_idxs(smi, True) == [7, 8, 14]\n",
    "\n",
    "    smi = 'CN1CC2CC3=CC(C(=O)CC3)C3C=C(CCC3=O)CC1CN2'\n",
    "    assert get_list_link_idxs(smi) == [22]\n",
    "\n",
    "test_get_list_link_idxs()"
   ]
  },
  {
   "cell_type": "code",
   "execution_count": 21,
   "metadata": {},
   "outputs": [
    {
     "name": "stdout",
     "output_type": "stream",
     "text": [
      "[0, 2, 3, 7, 8, 11, 14]\n"
     ]
    }
   ],
   "source": [
    "smi = 'C=C(CC)C(=O)c1ccc(OCC(=O)O)c(Cl)c1Cl'\n",
    "print(get_list_link_idxs(smi, True))"
   ]
  }
 ],
 "metadata": {
  "interpreter": {
   "hash": "3fc75316a675d6cd8bad14bdcbb8c66d69d72b9c908f9e12d9be8e7689015f11"
  },
  "kernelspec": {
   "display_name": "Python 3.10.4 ('mol')",
   "language": "python",
   "name": "python3"
  },
  "language_info": {
   "codemirror_mode": {
    "name": "ipython",
    "version": 3
   },
   "file_extension": ".py",
   "mimetype": "text/x-python",
   "name": "python",
   "nbconvert_exporter": "python",
   "pygments_lexer": "ipython3",
   "version": "3.10.4"
  },
  "orig_nbformat": 4
 },
 "nbformat": 4,
 "nbformat_minor": 2
}
